{
  "nbformat": 4,
  "nbformat_minor": 0,
  "metadata": {
    "colab": {
      "name": "UNIT.ipynb",
      "provenance": []
    },
    "kernelspec": {
      "name": "python3",
      "display_name": "Python 3"
    },
    "accelerator": "GPU"
  },
  "cells": [
    {
      "cell_type": "code",
      "metadata": {
        "colab": {
          "base_uri": "https://localhost:8080/"
        },
        "id": "W9TV8rYTK9Rd",
        "outputId": "aaf76a75-2a54-45aa-a004-25e6408cead3"
      },
      "source": [
        "pip install torchvision==0.2.0"
      ],
      "execution_count": null,
      "outputs": [
        {
          "output_type": "stream",
          "text": [
            "Collecting torchvision==0.2.0\n",
            "\u001b[?25l  Downloading https://files.pythonhosted.org/packages/e9/c9/f4eb36734bffd36eb8095247d816cbe6aeca0a2b9218b78678288edfdb92/torchvision-0.2.0-py2.py3-none-any.whl (48kB)\n",
            "\r\u001b[K     |██████▊                         | 10kB 20.2MB/s eta 0:00:01\r\u001b[K     |█████████████▍                  | 20kB 16.3MB/s eta 0:00:01\r\u001b[K     |████████████████████▏           | 30kB 14.7MB/s eta 0:00:01\r\u001b[K     |██████████████████████████▉     | 40kB 14.5MB/s eta 0:00:01\r\u001b[K     |████████████████████████████████| 51kB 5.9MB/s \n",
            "\u001b[?25hRequirement already satisfied: torch in /usr/local/lib/python3.6/dist-packages (from torchvision==0.2.0) (1.7.0+cu101)\n",
            "Requirement already satisfied: six in /usr/local/lib/python3.6/dist-packages (from torchvision==0.2.0) (1.15.0)\n",
            "Requirement already satisfied: pillow>=4.1.1 in /usr/local/lib/python3.6/dist-packages (from torchvision==0.2.0) (7.0.0)\n",
            "Requirement already satisfied: numpy in /usr/local/lib/python3.6/dist-packages (from torchvision==0.2.0) (1.18.5)\n",
            "Requirement already satisfied: dataclasses in /usr/local/lib/python3.6/dist-packages (from torch->torchvision==0.2.0) (0.8)\n",
            "Requirement already satisfied: typing-extensions in /usr/local/lib/python3.6/dist-packages (from torch->torchvision==0.2.0) (3.7.4.3)\n",
            "Requirement already satisfied: future in /usr/local/lib/python3.6/dist-packages (from torch->torchvision==0.2.0) (0.16.0)\n",
            "Installing collected packages: torchvision\n",
            "  Found existing installation: torchvision 0.8.1+cu101\n",
            "    Uninstalling torchvision-0.8.1+cu101:\n",
            "      Successfully uninstalled torchvision-0.8.1+cu101\n",
            "Successfully installed torchvision-0.2.0\n"
          ],
          "name": "stdout"
        }
      ]
    },
    {
      "cell_type": "code",
      "metadata": {
        "colab": {
          "base_uri": "https://localhost:8080/"
        },
        "id": "temPPB9kH_IM",
        "outputId": "a5a9b2e7-6c64-4c08-c81a-cd83113ef278"
      },
      "source": [
        "!git clone https://gist.github.com/f7b7c7758a46da49f84bc68b47997d69.git"
      ],
      "execution_count": null,
      "outputs": [
        {
          "output_type": "stream",
          "text": [
            "Cloning into 'f7b7c7758a46da49f84bc68b47997d69'...\n",
            "remote: Enumerating objects: 16, done.\u001b[K\n",
            "remote: Total 16 (delta 0), reused 0 (delta 0), pack-reused 16\u001b[K\n",
            "Unpacking objects: 100% (16/16), done.\n"
          ],
          "name": "stdout"
        }
      ]
    },
    {
      "cell_type": "code",
      "metadata": {
        "colab": {
          "base_uri": "https://localhost:8080/"
        },
        "id": "DpSOmSqEH-ho",
        "outputId": "bf9b248d-1c65-454f-a822-240807427f96"
      },
      "source": [
        "cd f7b7c7758a46da49f84bc68b47997d69"
      ],
      "execution_count": null,
      "outputs": [
        {
          "output_type": "stream",
          "text": [
            "/content/f7b7c7758a46da49f84bc68b47997d69\n"
          ],
          "name": "stdout"
        }
      ]
    },
    {
      "cell_type": "code",
      "metadata": {
        "colab": {
          "base_uri": "https://localhost:8080/"
        },
        "id": "h3PVdzDDIAyE",
        "outputId": "bee84c42-fedb-4921-d18e-bb0af3042ef9"
      },
      "source": [
        "!bash pytorch041_cuda92_colab.sh"
      ],
      "execution_count": null,
      "outputs": [
        {
          "output_type": "stream",
          "text": [
            "--2020-12-11 09:27:33--  https://developer.nvidia.com/compute/cuda/9.2/Prod2/local_installers/cuda-repo-ubuntu1604-9-2-local_9.2.148-1_amd64\n",
            "Resolving developer.nvidia.com (developer.nvidia.com)... 152.199.0.24\n",
            "Connecting to developer.nvidia.com (developer.nvidia.com)|152.199.0.24|:443... connected.\n",
            "HTTP request sent, awaiting response... 302 Found\n",
            "Location: https://developer.download.nvidia.com/compute/cuda/9.2/secure/Prod2/local_installers/cuda-repo-ubuntu1604-9-2-local_9.2.148-1_amd64.deb?m1uxepPxsFPClyaXHb7eyQRrSL8wlakBUoTzDt2NDfsIZ4-IhA7LfViXxroV9UeqfQjCOjhiRc2NDV13XGI2JUjuw58PniCfMXNaEzcZV67QOqvbwUklC_K6RC_sAyVyy2zZU3hOFcvBqBAnpbWczzQJ4et2OcKPYFIJ6L3Bq-pUxyfTQMsDXpibetz2wDFxaMQv3UXjaU1TsURjZFEwdw [following]\n",
            "--2020-12-11 09:27:33--  https://developer.download.nvidia.com/compute/cuda/9.2/secure/Prod2/local_installers/cuda-repo-ubuntu1604-9-2-local_9.2.148-1_amd64.deb?m1uxepPxsFPClyaXHb7eyQRrSL8wlakBUoTzDt2NDfsIZ4-IhA7LfViXxroV9UeqfQjCOjhiRc2NDV13XGI2JUjuw58PniCfMXNaEzcZV67QOqvbwUklC_K6RC_sAyVyy2zZU3hOFcvBqBAnpbWczzQJ4et2OcKPYFIJ6L3Bq-pUxyfTQMsDXpibetz2wDFxaMQv3UXjaU1TsURjZFEwdw\n",
            "Resolving developer.download.nvidia.com (developer.download.nvidia.com)... 152.195.19.142\n",
            "Connecting to developer.download.nvidia.com (developer.download.nvidia.com)|152.195.19.142|:443... connected.\n",
            "HTTP request sent, awaiting response... 200 OK\n",
            "Length: 1267151038 (1.2G) [application/x-deb]\n",
            "Saving to: ‘cuda-repo-ubuntu1604-9-2-local_9.2.148-1_amd64’\n",
            "\n",
            "cuda-repo-ubuntu160 100%[===================>]   1.18G   262MB/s    in 4.8s    \n",
            "\n",
            "2020-12-11 09:27:38 (254 MB/s) - ‘cuda-repo-ubuntu1604-9-2-local_9.2.148-1_amd64’ saved [1267151038/1267151038]\n",
            "\n",
            "\u001b[1;33m\n",
            "WEBGET finished..\n",
            "\u001b[0m\n",
            "Selecting previously unselected package cuda-repo-ubuntu1604-9-2-local.\n",
            "(Reading database ... 144865 files and directories currently installed.)\n",
            "Preparing to unpack cuda-repo-ubuntu1604-9-2-local_9.2.148-1_amd64 ...\n",
            "Unpacking cuda-repo-ubuntu1604-9-2-local (9.2.148-1) ...\n",
            "Setting up cuda-repo-ubuntu1604-9-2-local (9.2.148-1) ...\n",
            "\u001b[1;33m\n",
            "DPKG finished..\n",
            "\u001b[0m\n",
            "OK\n",
            "\u001b[1;33m\n",
            "APT added key..\n",
            "\u001b[0m\n",
            "Get:1 file:/var/cuda-repo-9-2-local  InRelease\n",
            "Ign:1 file:/var/cuda-repo-9-2-local  InRelease\n",
            "Get:2 file:/var/cuda-repo-9-2-local  Release [574 B]\n",
            "Get:2 file:/var/cuda-repo-9-2-local  Release [574 B]\n",
            "Get:3 file:/var/cuda-repo-9-2-local  Release.gpg [819 B]\n",
            "Get:3 file:/var/cuda-repo-9-2-local  Release.gpg [819 B]\n",
            "Get:4 https://cloud.r-project.org/bin/linux/ubuntu bionic-cran40/ InRelease [3,626 B]\n",
            "Ign:5 https://developer.download.nvidia.com/compute/cuda/repos/ubuntu1804/x86_64  InRelease\n",
            "Get:6 http://ppa.launchpad.net/c2d4u.team/c2d4u4.0+/ubuntu bionic InRelease [15.9 kB]\n",
            "Get:7 http://security.ubuntu.com/ubuntu bionic-security InRelease [88.7 kB]\n",
            "Hit:8 http://archive.ubuntu.com/ubuntu bionic InRelease\n",
            "Get:9 file:/var/cuda-repo-9-2-local  Packages [18.7 kB]\n",
            "Ign:10 https://developer.download.nvidia.com/compute/machine-learning/repos/ubuntu1804/x86_64  InRelease\n",
            "Hit:11 https://developer.download.nvidia.com/compute/cuda/repos/ubuntu1804/x86_64  Release\n",
            "Hit:12 https://developer.download.nvidia.com/compute/machine-learning/repos/ubuntu1804/x86_64  Release\n",
            "Get:13 http://archive.ubuntu.com/ubuntu bionic-updates InRelease [88.7 kB]\n",
            "Get:14 https://cloud.r-project.org/bin/linux/ubuntu bionic-cran40/ Packages [40.7 kB]\n",
            "Get:15 http://ppa.launchpad.net/graphics-drivers/ppa/ubuntu bionic InRelease [21.3 kB]\n",
            "Get:16 http://archive.ubuntu.com/ubuntu bionic-backports InRelease [74.6 kB]\n",
            "Get:19 http://ppa.launchpad.net/c2d4u.team/c2d4u4.0+/ubuntu bionic/main Sources [1,696 kB]\n",
            "Get:20 http://security.ubuntu.com/ubuntu bionic-security/multiverse amd64 Packages [15.8 kB]\n",
            "Get:21 http://security.ubuntu.com/ubuntu bionic-security/restricted amd64 Packages [223 kB]\n",
            "Get:22 http://archive.ubuntu.com/ubuntu bionic-updates/multiverse amd64 Packages [54.3 kB]\n",
            "Get:23 http://security.ubuntu.com/ubuntu bionic-security/universe amd64 Packages [1,368 kB]\n",
            "Get:24 http://archive.ubuntu.com/ubuntu bionic-updates/main amd64 Packages [2,211 kB]\n",
            "Get:25 http://security.ubuntu.com/ubuntu bionic-security/main amd64 Packages [1,784 kB]\n",
            "Get:26 http://ppa.launchpad.net/c2d4u.team/c2d4u4.0+/ubuntu bionic/main amd64 Packages [868 kB]\n",
            "Get:27 http://archive.ubuntu.com/ubuntu bionic-updates/universe amd64 Packages [2,132 kB]\n",
            "Get:28 http://archive.ubuntu.com/ubuntu bionic-updates/restricted amd64 Packages [253 kB]\n",
            "Get:29 http://ppa.launchpad.net/graphics-drivers/ppa/ubuntu bionic/main amd64 Packages [46.5 kB]\n",
            "Fetched 11.0 MB in 3s (4,163 kB/s)\n",
            "Reading package lists... Done\n",
            "\u001b[1;33m\n",
            "APT update finished..\n",
            "\u001b[0m\n",
            "Reading package lists... Done\n",
            "Building dependency tree       \n",
            "Reading state information... Done\n",
            "The following additional packages will be installed:\n",
            "  cuda-11-1 cuda-command-line-tools-11-1 cuda-compiler-11-1 cuda-cudart-11-1\n",
            "  cuda-cudart-dev-11-1 cuda-cuobjdump-11-1 cuda-cupti-11-1 cuda-cupti-dev-11-1\n",
            "  cuda-demo-suite-11-1 cuda-documentation-11-1 cuda-driver-dev-11-1\n",
            "  cuda-gdb-11-1 cuda-libraries-11-1 cuda-libraries-dev-11-1 cuda-memcheck-11-1\n",
            "  cuda-nsight-11-1 cuda-nsight-compute-11-1 cuda-nsight-systems-11-1\n",
            "  cuda-nvcc-11-1 cuda-nvdisasm-11-1 cuda-nvml-dev-11-1 cuda-nvprof-11-1\n",
            "  cuda-nvprune-11-1 cuda-nvrtc-11-1 cuda-nvrtc-dev-11-1 cuda-nvtx-11-1\n",
            "  cuda-nvvp-11-1 cuda-runtime-11-1 cuda-samples-11-1 cuda-sanitizer-11-1\n",
            "  cuda-toolkit-11-1 cuda-tools-11-1 cuda-visual-tools-11-1 libcublas-11-1\n",
            "  libcublas-dev-11-1 libcufft-11-1 libcufft-dev-11-1 libcurand-11-1\n",
            "  libcurand-dev-11-1 libcusolver-11-1 libcusolver-dev-11-1 libcusparse-11-1\n",
            "  libcusparse-dev-11-1 libnpp-11-1 libnpp-dev-11-1 libnvjpeg-11-1\n",
            "  libnvjpeg-dev-11-1\n",
            "The following NEW packages will be installed:\n",
            "  cuda cuda-11-1 cuda-command-line-tools-11-1 cuda-compiler-11-1\n",
            "  cuda-cudart-11-1 cuda-cudart-dev-11-1 cuda-cuobjdump-11-1 cuda-cupti-11-1\n",
            "  cuda-cupti-dev-11-1 cuda-demo-suite-11-1 cuda-documentation-11-1\n",
            "  cuda-driver-dev-11-1 cuda-gdb-11-1 cuda-libraries-11-1\n",
            "  cuda-libraries-dev-11-1 cuda-memcheck-11-1 cuda-nsight-11-1\n",
            "  cuda-nsight-compute-11-1 cuda-nsight-systems-11-1 cuda-nvcc-11-1\n",
            "  cuda-nvdisasm-11-1 cuda-nvml-dev-11-1 cuda-nvprof-11-1 cuda-nvprune-11-1\n",
            "  cuda-nvrtc-11-1 cuda-nvrtc-dev-11-1 cuda-nvtx-11-1 cuda-nvvp-11-1\n",
            "  cuda-runtime-11-1 cuda-samples-11-1 cuda-sanitizer-11-1 cuda-toolkit-11-1\n",
            "  cuda-tools-11-1 cuda-visual-tools-11-1 libcublas-11-1 libcublas-dev-11-1\n",
            "  libcufft-11-1 libcufft-dev-11-1 libcurand-11-1 libcurand-dev-11-1\n",
            "  libcusolver-11-1 libcusolver-dev-11-1 libcusparse-11-1 libcusparse-dev-11-1\n",
            "  libnpp-11-1 libnpp-dev-11-1 libnvjpeg-11-1 libnvjpeg-dev-11-1\n",
            "0 upgraded, 48 newly installed, 0 to remove and 34 not upgraded.\n",
            "Need to get 1,982 MB of archives.\n",
            "After this operation, 4,662 MB of additional disk space will be used.\n",
            "Get:1 https://developer.download.nvidia.com/compute/cuda/repos/ubuntu1804/x86_64  cuda-cudart-11-1 11.1.74-1 [133 kB]\n",
            "Get:2 https://developer.download.nvidia.com/compute/cuda/repos/ubuntu1804/x86_64  cuda-nvrtc-11-1 11.1.105-1 [11.1 MB]\n",
            "Get:3 https://developer.download.nvidia.com/compute/cuda/repos/ubuntu1804/x86_64  libcublas-11-1 11.3.0.106-1 [170 MB]\n",
            "Get:4 https://developer.download.nvidia.com/compute/cuda/repos/ubuntu1804/x86_64  libcufft-11-1 10.3.0.105-1 [129 MB]\n",
            "Get:5 https://developer.download.nvidia.com/compute/cuda/repos/ubuntu1804/x86_64  libcurand-11-1 10.2.2.105-1 [39.6 MB]\n",
            "Get:6 https://developer.download.nvidia.com/compute/cuda/repos/ubuntu1804/x86_64  libcusolver-11-1 11.0.1.105-1 [399 MB]\n",
            "Get:7 https://developer.download.nvidia.com/compute/cuda/repos/ubuntu1804/x86_64  libcusparse-11-1 11.3.0.10-1 [103 MB]\n",
            "Get:8 https://developer.download.nvidia.com/compute/cuda/repos/ubuntu1804/x86_64  libnpp-11-1 11.1.2.301-1 [84.8 MB]\n",
            "Get:9 https://developer.download.nvidia.com/compute/cuda/repos/ubuntu1804/x86_64  libnvjpeg-11-1 11.3.0.105-1 [1,646 kB]\n",
            "Get:10 https://developer.download.nvidia.com/compute/cuda/repos/ubuntu1804/x86_64  cuda-libraries-11-1 11.1.1-1 [2,500 B]\n",
            "Get:11 https://developer.download.nvidia.com/compute/cuda/repos/ubuntu1804/x86_64  cuda-runtime-11-1 11.1.1-1 [2,424 B]\n",
            "Get:12 https://developer.download.nvidia.com/compute/cuda/repos/ubuntu1804/x86_64  cuda-cuobjdump-11-1 11.1.74-1 [110 kB]\n",
            "Get:13 https://developer.download.nvidia.com/compute/cuda/repos/ubuntu1804/x86_64  cuda-driver-dev-11-1 11.1.74-1 [25.4 kB]\n",
            "Get:14 https://developer.download.nvidia.com/compute/cuda/repos/ubuntu1804/x86_64  cuda-cudart-dev-11-1 11.1.74-1 [1,734 kB]\n",
            "Get:15 https://developer.download.nvidia.com/compute/cuda/repos/ubuntu1804/x86_64  cuda-nvcc-11-1 11.1.105-1 [27.0 MB]\n",
            "Get:16 https://developer.download.nvidia.com/compute/cuda/repos/ubuntu1804/x86_64  cuda-nvprune-11-1 11.1.74-1 [54.4 kB]\n",
            "Get:17 https://developer.download.nvidia.com/compute/cuda/repos/ubuntu1804/x86_64  cuda-compiler-11-1 11.1.1-1 [2,422 B]\n",
            "Get:18 https://developer.download.nvidia.com/compute/cuda/repos/ubuntu1804/x86_64  cuda-nvrtc-dev-11-1 11.1.105-1 [22.6 kB]\n",
            "Get:19 https://developer.download.nvidia.com/compute/cuda/repos/ubuntu1804/x86_64  libcublas-dev-11-1 11.3.0.106-1 [172 MB]\n",
            "Get:20 https://developer.download.nvidia.com/compute/cuda/repos/ubuntu1804/x86_64  libcufft-dev-11-1 10.3.0.105-1 [221 MB]\n",
            "Get:21 https://developer.download.nvidia.com/compute/cuda/repos/ubuntu1804/x86_64  libcurand-dev-11-1 10.2.2.105-1 [39.6 MB]\n",
            "Get:22 https://developer.download.nvidia.com/compute/cuda/repos/ubuntu1804/x86_64  libcusolver-dev-11-1 11.0.1.105-1 [21.8 MB]\n",
            "Get:23 https://developer.download.nvidia.com/compute/cuda/repos/ubuntu1804/x86_64  libcusparse-dev-11-1 11.3.0.10-1 [104 MB]\n",
            "Get:24 https://developer.download.nvidia.com/compute/cuda/repos/ubuntu1804/x86_64  libnpp-dev-11-1 11.1.2.301-1 [84.8 MB]\n",
            "Get:25 https://developer.download.nvidia.com/compute/cuda/repos/ubuntu1804/x86_64  libnvjpeg-dev-11-1 11.3.0.105-1 [1,576 kB]\n",
            "Get:26 https://developer.download.nvidia.com/compute/cuda/repos/ubuntu1804/x86_64  cuda-libraries-dev-11-1 11.1.1-1 [2,518 B]\n",
            "Get:27 https://developer.download.nvidia.com/compute/cuda/repos/ubuntu1804/x86_64  cuda-cupti-11-1 11.1.105-1 [10.9 MB]\n",
            "Get:28 https://developer.download.nvidia.com/compute/cuda/repos/ubuntu1804/x86_64  cuda-cupti-dev-11-1 11.1.105-1 [2,294 kB]\n",
            "Get:29 https://developer.download.nvidia.com/compute/cuda/repos/ubuntu1804/x86_64  cuda-nvdisasm-11-1 11.1.74-1 [32.8 MB]\n",
            "Get:30 https://developer.download.nvidia.com/compute/cuda/repos/ubuntu1804/x86_64  cuda-gdb-11-1 11.1.105-1 [3,627 kB]\n",
            "Get:31 https://developer.download.nvidia.com/compute/cuda/repos/ubuntu1804/x86_64  cuda-memcheck-11-1 11.1.105-1 [144 kB]\n",
            "Get:32 https://developer.download.nvidia.com/compute/cuda/repos/ubuntu1804/x86_64  cuda-nvprof-11-1 11.1.105-1 [1,910 kB]\n",
            "Get:33 https://developer.download.nvidia.com/compute/cuda/repos/ubuntu1804/x86_64  cuda-nvtx-11-1 11.1.74-1 [51.1 kB]\n",
            "Get:34 https://developer.download.nvidia.com/compute/cuda/repos/ubuntu1804/x86_64  cuda-sanitizer-11-1 11.1.105-1 [7,253 kB]\n",
            "Get:35 https://developer.download.nvidia.com/compute/cuda/repos/ubuntu1804/x86_64  cuda-command-line-tools-11-1 11.1.1-1 [2,472 B]\n",
            "Get:36 https://developer.download.nvidia.com/compute/cuda/repos/ubuntu1804/x86_64  cuda-nsight-compute-11-1 11.1.1-1 [3,702 B]\n",
            "Get:37 https://developer.download.nvidia.com/compute/cuda/repos/ubuntu1804/x86_64  cuda-nsight-systems-11-1 11.1.1-1 [3,292 B]\n",
            "Get:38 https://developer.download.nvidia.com/compute/cuda/repos/ubuntu1804/x86_64  cuda-nsight-11-1 11.1.105-1 [119 MB]\n",
            "Get:39 https://developer.download.nvidia.com/compute/cuda/repos/ubuntu1804/x86_64  cuda-nvml-dev-11-1 11.1.74-1 [72.8 kB]\n",
            "Get:40 https://developer.download.nvidia.com/compute/cuda/repos/ubuntu1804/x86_64  cuda-nvvp-11-1 11.1.105-1 [119 MB]\n",
            "Get:41 https://developer.download.nvidia.com/compute/cuda/repos/ubuntu1804/x86_64  cuda-visual-tools-11-1 11.1.1-1 [2,942 B]\n",
            "Get:42 https://developer.download.nvidia.com/compute/cuda/repos/ubuntu1804/x86_64  cuda-tools-11-1 11.1.1-1 [2,382 B]\n",
            "Get:43 https://developer.download.nvidia.com/compute/cuda/repos/ubuntu1804/x86_64  cuda-samples-11-1 11.1.105-1 [69.4 MB]\n",
            "Get:44 https://developer.download.nvidia.com/compute/cuda/repos/ubuntu1804/x86_64  cuda-documentation-11-1 11.1.105-1 [48.1 kB]\n",
            "Get:45 https://developer.download.nvidia.com/compute/cuda/repos/ubuntu1804/x86_64  cuda-toolkit-11-1 11.1.1-1 [2,652 B]\n",
            "Get:46 https://developer.download.nvidia.com/compute/cuda/repos/ubuntu1804/x86_64  cuda-demo-suite-11-1 11.1.74-1 [3,931 kB]\n",
            "Get:47 https://developer.download.nvidia.com/compute/cuda/repos/ubuntu1804/x86_64  cuda-11-1 11.1.1-1 [2,448 B]\n",
            "Get:48 https://developer.download.nvidia.com/compute/cuda/repos/ubuntu1804/x86_64  cuda 11.1.1-1 [2,392 B]\n",
            "Fetched 1,982 MB in 40s (50.1 MB/s)\n",
            "Extracting templates from packages: 100%\n",
            "Selecting previously unselected package cuda-cudart-11-1.\n",
            "(Reading database ... 144938 files and directories currently installed.)\n",
            "Preparing to unpack .../00-cuda-cudart-11-1_11.1.74-1_amd64.deb ...\n",
            "Unpacking cuda-cudart-11-1 (11.1.74-1) ...\n",
            "Selecting previously unselected package cuda-nvrtc-11-1.\n",
            "Preparing to unpack .../01-cuda-nvrtc-11-1_11.1.105-1_amd64.deb ...\n",
            "Unpacking cuda-nvrtc-11-1 (11.1.105-1) ...\n",
            "Selecting previously unselected package libcublas-11-1.\n",
            "Preparing to unpack .../02-libcublas-11-1_11.3.0.106-1_amd64.deb ...\n",
            "Unpacking libcublas-11-1 (11.3.0.106-1) ...\n",
            "Selecting previously unselected package libcufft-11-1.\n",
            "Preparing to unpack .../03-libcufft-11-1_10.3.0.105-1_amd64.deb ...\n",
            "Unpacking libcufft-11-1 (10.3.0.105-1) ...\n",
            "Selecting previously unselected package libcurand-11-1.\n",
            "Preparing to unpack .../04-libcurand-11-1_10.2.2.105-1_amd64.deb ...\n",
            "Unpacking libcurand-11-1 (10.2.2.105-1) ...\n",
            "Selecting previously unselected package libcusolver-11-1.\n",
            "Preparing to unpack .../05-libcusolver-11-1_11.0.1.105-1_amd64.deb ...\n",
            "Unpacking libcusolver-11-1 (11.0.1.105-1) ...\n",
            "Selecting previously unselected package libcusparse-11-1.\n",
            "Preparing to unpack .../06-libcusparse-11-1_11.3.0.10-1_amd64.deb ...\n",
            "Unpacking libcusparse-11-1 (11.3.0.10-1) ...\n",
            "Selecting previously unselected package libnpp-11-1.\n",
            "Preparing to unpack .../07-libnpp-11-1_11.1.2.301-1_amd64.deb ...\n",
            "Unpacking libnpp-11-1 (11.1.2.301-1) ...\n",
            "Selecting previously unselected package libnvjpeg-11-1.\n",
            "Preparing to unpack .../08-libnvjpeg-11-1_11.3.0.105-1_amd64.deb ...\n",
            "Unpacking libnvjpeg-11-1 (11.3.0.105-1) ...\n",
            "Selecting previously unselected package cuda-libraries-11-1.\n",
            "Preparing to unpack .../09-cuda-libraries-11-1_11.1.1-1_amd64.deb ...\n",
            "Unpacking cuda-libraries-11-1 (11.1.1-1) ...\n",
            "Selecting previously unselected package cuda-runtime-11-1.\n",
            "Preparing to unpack .../10-cuda-runtime-11-1_11.1.1-1_amd64.deb ...\n",
            "Unpacking cuda-runtime-11-1 (11.1.1-1) ...\n",
            "Selecting previously unselected package cuda-cuobjdump-11-1.\n",
            "Preparing to unpack .../11-cuda-cuobjdump-11-1_11.1.74-1_amd64.deb ...\n",
            "Unpacking cuda-cuobjdump-11-1 (11.1.74-1) ...\n",
            "Selecting previously unselected package cuda-driver-dev-11-1.\n",
            "Preparing to unpack .../12-cuda-driver-dev-11-1_11.1.74-1_amd64.deb ...\n",
            "Unpacking cuda-driver-dev-11-1 (11.1.74-1) ...\n",
            "Selecting previously unselected package cuda-cudart-dev-11-1.\n",
            "Preparing to unpack .../13-cuda-cudart-dev-11-1_11.1.74-1_amd64.deb ...\n",
            "Unpacking cuda-cudart-dev-11-1 (11.1.74-1) ...\n",
            "Selecting previously unselected package cuda-nvcc-11-1.\n",
            "Preparing to unpack .../14-cuda-nvcc-11-1_11.1.105-1_amd64.deb ...\n",
            "Unpacking cuda-nvcc-11-1 (11.1.105-1) ...\n",
            "Selecting previously unselected package cuda-nvprune-11-1.\n",
            "Preparing to unpack .../15-cuda-nvprune-11-1_11.1.74-1_amd64.deb ...\n",
            "Unpacking cuda-nvprune-11-1 (11.1.74-1) ...\n",
            "Selecting previously unselected package cuda-compiler-11-1.\n",
            "Preparing to unpack .../16-cuda-compiler-11-1_11.1.1-1_amd64.deb ...\n",
            "Unpacking cuda-compiler-11-1 (11.1.1-1) ...\n",
            "Selecting previously unselected package cuda-nvrtc-dev-11-1.\n",
            "Preparing to unpack .../17-cuda-nvrtc-dev-11-1_11.1.105-1_amd64.deb ...\n",
            "Unpacking cuda-nvrtc-dev-11-1 (11.1.105-1) ...\n",
            "Selecting previously unselected package libcublas-dev-11-1.\n",
            "Preparing to unpack .../18-libcublas-dev-11-1_11.3.0.106-1_amd64.deb ...\n",
            "Unpacking libcublas-dev-11-1 (11.3.0.106-1) ...\n",
            "Selecting previously unselected package libcufft-dev-11-1.\n",
            "Preparing to unpack .../19-libcufft-dev-11-1_10.3.0.105-1_amd64.deb ...\n",
            "Unpacking libcufft-dev-11-1 (10.3.0.105-1) ...\n",
            "Selecting previously unselected package libcurand-dev-11-1.\n",
            "Preparing to unpack .../20-libcurand-dev-11-1_10.2.2.105-1_amd64.deb ...\n",
            "Unpacking libcurand-dev-11-1 (10.2.2.105-1) ...\n",
            "Selecting previously unselected package libcusolver-dev-11-1.\n",
            "Preparing to unpack .../21-libcusolver-dev-11-1_11.0.1.105-1_amd64.deb ...\n",
            "Unpacking libcusolver-dev-11-1 (11.0.1.105-1) ...\n",
            "Selecting previously unselected package libcusparse-dev-11-1.\n",
            "Preparing to unpack .../22-libcusparse-dev-11-1_11.3.0.10-1_amd64.deb ...\n",
            "Unpacking libcusparse-dev-11-1 (11.3.0.10-1) ...\n",
            "Selecting previously unselected package libnpp-dev-11-1.\n",
            "Preparing to unpack .../23-libnpp-dev-11-1_11.1.2.301-1_amd64.deb ...\n",
            "Unpacking libnpp-dev-11-1 (11.1.2.301-1) ...\n",
            "Selecting previously unselected package libnvjpeg-dev-11-1.\n",
            "Preparing to unpack .../24-libnvjpeg-dev-11-1_11.3.0.105-1_amd64.deb ...\n",
            "Unpacking libnvjpeg-dev-11-1 (11.3.0.105-1) ...\n",
            "Selecting previously unselected package cuda-libraries-dev-11-1.\n",
            "Preparing to unpack .../25-cuda-libraries-dev-11-1_11.1.1-1_amd64.deb ...\n",
            "Unpacking cuda-libraries-dev-11-1 (11.1.1-1) ...\n",
            "Selecting previously unselected package cuda-cupti-11-1.\n",
            "Preparing to unpack .../26-cuda-cupti-11-1_11.1.105-1_amd64.deb ...\n",
            "Unpacking cuda-cupti-11-1 (11.1.105-1) ...\n",
            "Selecting previously unselected package cuda-cupti-dev-11-1.\n",
            "Preparing to unpack .../27-cuda-cupti-dev-11-1_11.1.105-1_amd64.deb ...\n",
            "Unpacking cuda-cupti-dev-11-1 (11.1.105-1) ...\n",
            "Selecting previously unselected package cuda-nvdisasm-11-1.\n",
            "Preparing to unpack .../28-cuda-nvdisasm-11-1_11.1.74-1_amd64.deb ...\n",
            "Unpacking cuda-nvdisasm-11-1 (11.1.74-1) ...\n",
            "Selecting previously unselected package cuda-gdb-11-1.\n",
            "Preparing to unpack .../29-cuda-gdb-11-1_11.1.105-1_amd64.deb ...\n",
            "Unpacking cuda-gdb-11-1 (11.1.105-1) ...\n",
            "Selecting previously unselected package cuda-memcheck-11-1.\n",
            "Preparing to unpack .../30-cuda-memcheck-11-1_11.1.105-1_amd64.deb ...\n",
            "Unpacking cuda-memcheck-11-1 (11.1.105-1) ...\n",
            "Selecting previously unselected package cuda-nvprof-11-1.\n",
            "Preparing to unpack .../31-cuda-nvprof-11-1_11.1.105-1_amd64.deb ...\n",
            "Unpacking cuda-nvprof-11-1 (11.1.105-1) ...\n",
            "Selecting previously unselected package cuda-nvtx-11-1.\n",
            "Preparing to unpack .../32-cuda-nvtx-11-1_11.1.74-1_amd64.deb ...\n",
            "Unpacking cuda-nvtx-11-1 (11.1.74-1) ...\n",
            "Selecting previously unselected package cuda-sanitizer-11-1.\n",
            "Preparing to unpack .../33-cuda-sanitizer-11-1_11.1.105-1_amd64.deb ...\n",
            "Unpacking cuda-sanitizer-11-1 (11.1.105-1) ...\n",
            "Selecting previously unselected package cuda-command-line-tools-11-1.\n",
            "Preparing to unpack .../34-cuda-command-line-tools-11-1_11.1.1-1_amd64.deb ...\n",
            "Unpacking cuda-command-line-tools-11-1 (11.1.1-1) ...\n",
            "Selecting previously unselected package cuda-nsight-compute-11-1.\n",
            "Preparing to unpack .../35-cuda-nsight-compute-11-1_11.1.1-1_amd64.deb ...\n",
            "Unpacking cuda-nsight-compute-11-1 (11.1.1-1) ...\n",
            "Selecting previously unselected package cuda-nsight-systems-11-1.\n",
            "Preparing to unpack .../36-cuda-nsight-systems-11-1_11.1.1-1_amd64.deb ...\n",
            "Unpacking cuda-nsight-systems-11-1 (11.1.1-1) ...\n",
            "Selecting previously unselected package cuda-nsight-11-1.\n",
            "Preparing to unpack .../37-cuda-nsight-11-1_11.1.105-1_amd64.deb ...\n",
            "Unpacking cuda-nsight-11-1 (11.1.105-1) ...\n",
            "Selecting previously unselected package cuda-nvml-dev-11-1.\n",
            "Preparing to unpack .../38-cuda-nvml-dev-11-1_11.1.74-1_amd64.deb ...\n",
            "Unpacking cuda-nvml-dev-11-1 (11.1.74-1) ...\n",
            "Selecting previously unselected package cuda-nvvp-11-1.\n",
            "Preparing to unpack .../39-cuda-nvvp-11-1_11.1.105-1_amd64.deb ...\n",
            "Unpacking cuda-nvvp-11-1 (11.1.105-1) ...\n",
            "Selecting previously unselected package cuda-visual-tools-11-1.\n",
            "Preparing to unpack .../40-cuda-visual-tools-11-1_11.1.1-1_amd64.deb ...\n",
            "Unpacking cuda-visual-tools-11-1 (11.1.1-1) ...\n",
            "Selecting previously unselected package cuda-tools-11-1.\n",
            "Preparing to unpack .../41-cuda-tools-11-1_11.1.1-1_amd64.deb ...\n",
            "Unpacking cuda-tools-11-1 (11.1.1-1) ...\n",
            "Selecting previously unselected package cuda-samples-11-1.\n",
            "Preparing to unpack .../42-cuda-samples-11-1_11.1.105-1_amd64.deb ...\n",
            "Unpacking cuda-samples-11-1 (11.1.105-1) ...\n",
            "Selecting previously unselected package cuda-documentation-11-1.\n",
            "Preparing to unpack .../43-cuda-documentation-11-1_11.1.105-1_amd64.deb ...\n",
            "Unpacking cuda-documentation-11-1 (11.1.105-1) ...\n",
            "Selecting previously unselected package cuda-toolkit-11-1.\n",
            "Preparing to unpack .../44-cuda-toolkit-11-1_11.1.1-1_amd64.deb ...\n",
            "Unpacking cuda-toolkit-11-1 (11.1.1-1) ...\n",
            "Selecting previously unselected package cuda-demo-suite-11-1.\n",
            "Preparing to unpack .../45-cuda-demo-suite-11-1_11.1.74-1_amd64.deb ...\n",
            "Unpacking cuda-demo-suite-11-1 (11.1.74-1) ...\n",
            "Selecting previously unselected package cuda-11-1.\n",
            "Preparing to unpack .../46-cuda-11-1_11.1.1-1_amd64.deb ...\n",
            "Unpacking cuda-11-1 (11.1.1-1) ...\n",
            "Selecting previously unselected package cuda.\n",
            "Preparing to unpack .../47-cuda_11.1.1-1_amd64.deb ...\n",
            "Unpacking cuda (11.1.1-1) ...\n",
            "Setting up cuda-nsight-systems-11-1 (11.1.1-1) ...\n",
            "Setting up cuda-nvprune-11-1 (11.1.74-1) ...\n",
            "Setting up cuda-cuobjdump-11-1 (11.1.74-1) ...\n",
            "Setting up cuda-nvml-dev-11-1 (11.1.74-1) ...\n",
            "Setting up libnvjpeg-11-1 (11.3.0.105-1) ...\n",
            "Setting up libcusolver-11-1 (11.0.1.105-1) ...\n",
            "Setting up cuda-cudart-11-1 (11.1.74-1) ...\n",
            "Setting up cuda-nsight-compute-11-1 (11.1.1-1) ...\n",
            "Setting up libcusolver-dev-11-1 (11.0.1.105-1) ...\n",
            "Setting up cuda-nvtx-11-1 (11.1.74-1) ...\n",
            "Setting up libnvjpeg-dev-11-1 (11.3.0.105-1) ...\n",
            "Setting up libcurand-11-1 (10.2.2.105-1) ...\n",
            "Setting up libcurand-dev-11-1 (10.2.2.105-1) ...\n",
            "Setting up cuda-nvvp-11-1 (11.1.105-1) ...\n",
            "Setting up cuda-sanitizer-11-1 (11.1.105-1) ...\n",
            "Setting up cuda-driver-dev-11-1 (11.1.74-1) ...\n",
            "Setting up cuda-memcheck-11-1 (11.1.105-1) ...\n",
            "Setting up cuda-cudart-dev-11-1 (11.1.74-1) ...\n",
            "Setting up libcufft-11-1 (10.3.0.105-1) ...\n",
            "Setting up cuda-nsight-11-1 (11.1.105-1) ...\n",
            "Setting up libcusparse-11-1 (11.3.0.10-1) ...\n",
            "Setting up libcublas-11-1 (11.3.0.106-1) ...\n",
            "Setting up cuda-nvdisasm-11-1 (11.1.74-1) ...\n",
            "Setting up cuda-nvrtc-11-1 (11.1.105-1) ...\n",
            "Setting up cuda-nvprof-11-1 (11.1.105-1) ...\n",
            "Setting up cuda-nvcc-11-1 (11.1.105-1) ...\n",
            "Setting up libnpp-11-1 (11.1.2.301-1) ...\n",
            "Setting up cuda-compiler-11-1 (11.1.1-1) ...\n",
            "Setting up libcublas-dev-11-1 (11.3.0.106-1) ...\n",
            "Setting up libnpp-dev-11-1 (11.1.2.301-1) ...\n",
            "Setting up cuda-cupti-11-1 (11.1.105-1) ...\n",
            "Setting up cuda-cupti-dev-11-1 (11.1.105-1) ...\n",
            "Setting up libcufft-dev-11-1 (10.3.0.105-1) ...\n",
            "Setting up libcusparse-dev-11-1 (11.3.0.10-1) ...\n",
            "Setting up cuda-gdb-11-1 (11.1.105-1) ...\n",
            "Setting up cuda-libraries-11-1 (11.1.1-1) ...\n",
            "Setting up cuda-nvrtc-dev-11-1 (11.1.105-1) ...\n",
            "Setting up cuda-samples-11-1 (11.1.105-1) ...\n",
            "Setting up cuda-runtime-11-1 (11.1.1-1) ...\n",
            "Setting up cuda-command-line-tools-11-1 (11.1.1-1) ...\n",
            "Setting up cuda-demo-suite-11-1 (11.1.74-1) ...\n",
            "Setting up cuda-libraries-dev-11-1 (11.1.1-1) ...\n",
            "Setting up cuda-documentation-11-1 (11.1.105-1) ...\n",
            "Setting up cuda-visual-tools-11-1 (11.1.1-1) ...\n",
            "Setting up cuda-tools-11-1 (11.1.1-1) ...\n",
            "Setting up cuda-toolkit-11-1 (11.1.1-1) ...\n",
            "update-alternatives: using /usr/local/cuda-11.1 to provide /usr/local/cuda (cuda) in auto mode\n",
            "update-alternatives: using /usr/local/cuda-11.1 to provide /usr/local/cuda-11 (cuda-11) in auto mode\n",
            "Setting up cuda-11-1 (11.1.1-1) ...\n",
            "Setting up cuda (11.1.1-1) ...\n",
            "\u001b[1;33m\n",
            "APT finished installing cuda..\n",
            "The CUDA version is: \n",
            "cat: /usr/local/cuda/version.txt: No such file or directory\n",
            "\u001b[0m\n",
            "Collecting torch==0.4.1\n",
            "\u001b[?25l  Downloading http://download.pytorch.org/whl/cu92/torch-0.4.1-cp36-cp36m-linux_x86_64.whl (512.6MB)\n",
            "\u001b[K     |████████████████████████████████| 512.6MB 1.1MB/s \n",
            "\u001b[31mERROR: fastai 1.0.61 has requirement torch>=1.0.0, but you'll have torch 0.4.1 which is incompatible.\u001b[0m\n",
            "\u001b[?25hInstalling collected packages: torch\n",
            "  Found existing installation: torch 1.7.0+cu101\n",
            "    Uninstalling torch-1.7.0+cu101:\n",
            "      Successfully uninstalled torch-1.7.0+cu101\n",
            "Successfully installed torch-0.4.1\n",
            "\u001b[1;33m\n",
            "pip fininshed installing PyTorch 0.4.1 with CUDA 9.2 backend..\n",
            "\u001b[0m\n",
            "Requirement already satisfied: torchvision in /usr/local/lib/python3.6/dist-packages (0.2.0)\n",
            "Requirement already satisfied: torch in /usr/local/lib/python3.6/dist-packages (from torchvision) (0.4.1)\n",
            "Requirement already satisfied: pillow>=4.1.1 in /usr/local/lib/python3.6/dist-packages (from torchvision) (7.0.0)\n",
            "Requirement already satisfied: six in /usr/local/lib/python3.6/dist-packages (from torchvision) (1.15.0)\n",
            "Requirement already satisfied: numpy in /usr/local/lib/python3.6/dist-packages (from torchvision) (1.18.5)\n",
            "\u001b[1;33m\n",
            "pip finished installing torchvision..\n",
            "\u001b[0m\n"
          ],
          "name": "stdout"
        }
      ]
    },
    {
      "cell_type": "code",
      "metadata": {
        "id": "oOn176JC7UB7",
        "colab": {
          "base_uri": "https://localhost:8080/"
        },
        "outputId": "fec76bfb-25f1-423b-ec16-d678814a594c"
      },
      "source": [
        "!git clone https://github.com/mingyuliutw/UNIT"
      ],
      "execution_count": null,
      "outputs": [
        {
          "output_type": "stream",
          "text": [
            "Cloning into 'UNIT'...\n",
            "remote: Enumerating objects: 658, done.\u001b[K\n",
            "remote: Total 658 (delta 0), reused 0 (delta 0), pack-reused 658\u001b[K\n",
            "Receiving objects: 100% (658/658), 202.35 MiB | 41.45 MiB/s, done.\n",
            "Resolving deltas: 100% (327/327), done.\n"
          ],
          "name": "stdout"
        }
      ]
    },
    {
      "cell_type": "code",
      "metadata": {
        "id": "E8c30X4g7YBN"
      },
      "source": [
        "import os\n",
        "os.chdir('UNIT/datasets')"
      ],
      "execution_count": null,
      "outputs": []
    },
    {
      "cell_type": "code",
      "metadata": {
        "id": "sXc2UsQc8Ggc"
      },
      "source": [
        "#!wget https://people.eecs.berkeley.edu/~taesung_park/CycleGAN/datasets/monet2photo.zip"
      ],
      "execution_count": null,
      "outputs": []
    },
    {
      "cell_type": "code",
      "metadata": {
        "id": "U63oY3kqBBm-"
      },
      "source": [
        "#!unzip monet2photo"
      ],
      "execution_count": null,
      "outputs": []
    },
    {
      "cell_type": "code",
      "metadata": {
        "colab": {
          "base_uri": "https://localhost:8080/"
        },
        "id": "L-FKgsPnBRPi",
        "outputId": "6989db95-e6da-4720-e037-24ea6c7fce30"
      },
      "source": [
        "cd .."
      ],
      "execution_count": null,
      "outputs": [
        {
          "output_type": "stream",
          "text": [
            "/content/f7b7c7758a46da49f84bc68b47997d69/UNIT\n"
          ],
          "name": "stdout"
        }
      ]
    },
    {
      "cell_type": "code",
      "metadata": {
        "id": "zFNl5XOcBEUx"
      },
      "source": [
        "!rm -rf datasets/monet2photo/trainA"
      ],
      "execution_count": null,
      "outputs": []
    },
    {
      "cell_type": "code",
      "metadata": {
        "id": "n3E8Vbc_IHQG"
      },
      "source": [
        "#!mv datasets/monet2photo/trainB datasets/monet2photo/trainA"
      ],
      "execution_count": null,
      "outputs": []
    },
    {
      "cell_type": "code",
      "metadata": {
        "id": "iMQFCbqDBOjv"
      },
      "source": [
        "#!cp -r /content/drive/MyDrive/dongho datasets/monet2photo/trainB"
      ],
      "execution_count": null,
      "outputs": []
    },
    {
      "cell_type": "code",
      "metadata": {
        "id": "d-AIAsTa1igj"
      },
      "source": [
        "#cd /content/UNIT"
      ],
      "execution_count": null,
      "outputs": []
    },
    {
      "cell_type": "code",
      "metadata": {
        "colab": {
          "base_uri": "https://localhost:8080/"
        },
        "id": "paX0FHujLeN5",
        "outputId": "dbc2baac-7f9b-4fb5-eda2-5d2addb0f949"
      },
      "source": [
        "pip install tensorboardX"
      ],
      "execution_count": null,
      "outputs": [
        {
          "output_type": "stream",
          "text": [
            "Collecting tensorboardX\n",
            "\u001b[?25l  Downloading https://files.pythonhosted.org/packages/af/0c/4f41bcd45db376e6fe5c619c01100e9b7531c55791b7244815bac6eac32c/tensorboardX-2.1-py2.py3-none-any.whl (308kB)\n",
            "\r\u001b[K     |█                               | 10kB 20.2MB/s eta 0:00:01\r\u001b[K     |██▏                             | 20kB 17.2MB/s eta 0:00:01\r\u001b[K     |███▏                            | 30kB 14.8MB/s eta 0:00:01\r\u001b[K     |████▎                           | 40kB 14.7MB/s eta 0:00:01\r\u001b[K     |█████▎                          | 51kB 11.7MB/s eta 0:00:01\r\u001b[K     |██████▍                         | 61kB 11.9MB/s eta 0:00:01\r\u001b[K     |███████▍                        | 71kB 11.6MB/s eta 0:00:01\r\u001b[K     |████████▌                       | 81kB 11.8MB/s eta 0:00:01\r\u001b[K     |█████████▌                      | 92kB 11.6MB/s eta 0:00:01\r\u001b[K     |██████████▋                     | 102kB 11.6MB/s eta 0:00:01\r\u001b[K     |███████████▊                    | 112kB 11.6MB/s eta 0:00:01\r\u001b[K     |████████████▊                   | 122kB 11.6MB/s eta 0:00:01\r\u001b[K     |█████████████▉                  | 133kB 11.6MB/s eta 0:00:01\r\u001b[K     |██████████████▉                 | 143kB 11.6MB/s eta 0:00:01\r\u001b[K     |████████████████                | 153kB 11.6MB/s eta 0:00:01\r\u001b[K     |█████████████████               | 163kB 11.6MB/s eta 0:00:01\r\u001b[K     |██████████████████              | 174kB 11.6MB/s eta 0:00:01\r\u001b[K     |███████████████████             | 184kB 11.6MB/s eta 0:00:01\r\u001b[K     |████████████████████▏           | 194kB 11.6MB/s eta 0:00:01\r\u001b[K     |█████████████████████▎          | 204kB 11.6MB/s eta 0:00:01\r\u001b[K     |██████████████████████▎         | 215kB 11.6MB/s eta 0:00:01\r\u001b[K     |███████████████████████▍        | 225kB 11.6MB/s eta 0:00:01\r\u001b[K     |████████████████████████▍       | 235kB 11.6MB/s eta 0:00:01\r\u001b[K     |█████████████████████████▌      | 245kB 11.6MB/s eta 0:00:01\r\u001b[K     |██████████████████████████▌     | 256kB 11.6MB/s eta 0:00:01\r\u001b[K     |███████████████████████████▋    | 266kB 11.6MB/s eta 0:00:01\r\u001b[K     |████████████████████████████▋   | 276kB 11.6MB/s eta 0:00:01\r\u001b[K     |█████████████████████████████▊  | 286kB 11.6MB/s eta 0:00:01\r\u001b[K     |██████████████████████████████▊ | 296kB 11.6MB/s eta 0:00:01\r\u001b[K     |███████████████████████████████▉| 307kB 11.6MB/s eta 0:00:01\r\u001b[K     |████████████████████████████████| 317kB 11.6MB/s \n",
            "\u001b[?25hRequirement already satisfied: protobuf>=3.8.0 in /usr/local/lib/python3.6/dist-packages (from tensorboardX) (3.12.4)\n",
            "Requirement already satisfied: six in /usr/local/lib/python3.6/dist-packages (from tensorboardX) (1.15.0)\n",
            "Requirement already satisfied: numpy in /usr/local/lib/python3.6/dist-packages (from tensorboardX) (1.18.5)\n",
            "Requirement already satisfied: setuptools in /usr/local/lib/python3.6/dist-packages (from protobuf>=3.8.0->tensorboardX) (50.3.2)\n",
            "Installing collected packages: tensorboardX\n",
            "Successfully installed tensorboardX-2.1\n"
          ],
          "name": "stdout"
        }
      ]
    },
    {
      "cell_type": "code",
      "metadata": {
        "id": "PJEgeTliTpjt"
      },
      "source": [
        "!mkdir models"
      ],
      "execution_count": null,
      "outputs": []
    },
    {
      "cell_type": "code",
      "metadata": {
        "colab": {
          "base_uri": "https://localhost:8080/"
        },
        "id": "9F_Jj5DrJ3mf",
        "outputId": "8fdb57c4-1525-4c28-814f-c5bec0bb542d"
      },
      "source": [
        "ls"
      ],
      "execution_count": null,
      "outputs": [
        {
          "output_type": "stream",
          "text": [
            "\u001b[0m\u001b[01;34mconfigs\u001b[0m/     \u001b[01;34mdocs\u001b[0m/       networks.py   \u001b[01;34mscripts\u001b[0m/       train.py\n",
            "data.py      \u001b[01;34minputs\u001b[0m/     \u001b[01;34m__pycache__\u001b[0m/  test_batch.py  \u001b[01;32mTUTORIAL.md\u001b[0m*\n",
            "\u001b[01;34mdatasets\u001b[0m/    LICENSE.md  \u001b[01;32mREADME.md\u001b[0m*    test.py        utils.py\n",
            "\u001b[01;32mDockerfile\u001b[0m*  \u001b[01;34mmodels\u001b[0m/     \u001b[01;34mresults\u001b[0m/      trainer.py\n"
          ],
          "name": "stdout"
        }
      ]
    },
    {
      "cell_type": "code",
      "metadata": {
        "id": "ccxJZo5QSjj1"
      },
      "source": [
        "!cp /content/drive/MyDrive/gen_00050000.pt models\n",
        "#outputs/unit_gta2city_folder/checkpoints/\n",
        "#!cp /content/drive/MyDrive/dis_00050000.pt outputs/unit_gta2city_folder/checkpoints/\n",
        "#!cp /content/drive/MyDrive/optimizer.pt outputs/unit_gta2city_folder/checkpoints/optimizer.pt\n"
      ],
      "execution_count": null,
      "outputs": []
    },
    {
      "cell_type": "code",
      "metadata": {
        "id": "Rcy2qiCOBjxt"
      },
      "source": [
        "# !python train.py --trainer UNIT --config configs/unit_gta2city_folder.yaml --resume"
      ],
      "execution_count": null,
      "outputs": []
    },
    {
      "cell_type": "code",
      "metadata": {
        "colab": {
          "base_uri": "https://localhost:8080/"
        },
        "id": "kBcgthiBCI8N",
        "outputId": "a9aff41d-2fa9-4267-dca0-14f59b276c77"
      },
      "source": [
        "!python test.py --trainer UNIT --config configs/unit_gta2city_folder.yaml --input '/content/test.jpg' --output_folder result --checkpoint models/gen_00050000.pt --a2b 1"
      ],
      "execution_count": null,
      "outputs": [
        {
          "output_type": "stream",
          "text": [
            "/usr/local/lib/python3.6/dist-packages/torch/nn/modules/upsampling.py:122: UserWarning: nn.Upsampling is deprecated. Use nn.functional.interpolate instead.\n",
            "  warnings.warn(\"nn.Upsampling is deprecated. Use nn.functional.interpolate instead.\")\n"
          ],
          "name": "stdout"
        }
      ]
    },
    {
      "cell_type": "code",
      "metadata": {
        "colab": {
          "base_uri": "https://localhost:8080/"
        },
        "id": "qAq3llXOHAQr",
        "outputId": "a4da6672-b46d-4734-e884-734d5dd7129e"
      },
      "source": [
        "!wget https://upload.wikimedia.org/wikipedia/commons/thumb/8/8b/Hauskatze_filou.jpg/220px-Hauskatze_filou.jpg -O /content/test.jpg"
      ],
      "execution_count": null,
      "outputs": [
        {
          "output_type": "stream",
          "text": [
            "--2020-12-11 10:20:59--  https://upload.wikimedia.org/wikipedia/commons/thumb/8/8b/Hauskatze_filou.jpg/220px-Hauskatze_filou.jpg\n",
            "Resolving upload.wikimedia.org (upload.wikimedia.org)... 208.80.154.240, 2620:0:861:ed1a::2:b\n",
            "Connecting to upload.wikimedia.org (upload.wikimedia.org)|208.80.154.240|:443... connected.\n",
            "HTTP request sent, awaiting response... 200 OK\n",
            "Length: 27883 (27K) [image/jpeg]\n",
            "Saving to: ‘/content/test.jpg’\n",
            "\n",
            "\r/content/test.jpg     0%[                    ]       0  --.-KB/s               \r/content/test.jpg   100%[===================>]  27.23K  --.-KB/s    in 0.002s  \n",
            "\n",
            "2020-12-11 10:20:59 (13.9 MB/s) - ‘/content/test.jpg’ saved [27883/27883]\n",
            "\n"
          ],
          "name": "stdout"
        }
      ]
    },
    {
      "cell_type": "code",
      "metadata": {
        "colab": {
          "base_uri": "https://localhost:8080/",
          "height": 363
        },
        "id": "gRr6BcMw2QFV",
        "outputId": "95f127a0-cfe7-439d-8082-f0292e6ea5e8"
      },
      "source": [
        "from google.colab import files\n",
        "files.download('outputs/unit_gta2city_folder/checkpoints/gen_00010000.pt') "
      ],
      "execution_count": null,
      "outputs": [
        {
          "output_type": "error",
          "ename": "FileNotFoundError",
          "evalue": "ignored",
          "traceback": [
            "\u001b[0;31m---------------------------------------------------------------------------\u001b[0m",
            "\u001b[0;31mFileNotFoundError\u001b[0m                         Traceback (most recent call last)",
            "\u001b[0;32m<ipython-input-20-5741c3fcca2c>\u001b[0m in \u001b[0;36m<module>\u001b[0;34m()\u001b[0m\n\u001b[1;32m      1\u001b[0m \u001b[0;32mfrom\u001b[0m \u001b[0mgoogle\u001b[0m\u001b[0;34m.\u001b[0m\u001b[0mcolab\u001b[0m \u001b[0;32mimport\u001b[0m \u001b[0mfiles\u001b[0m\u001b[0;34m\u001b[0m\u001b[0;34m\u001b[0m\u001b[0m\n\u001b[0;32m----> 2\u001b[0;31m \u001b[0mfiles\u001b[0m\u001b[0;34m.\u001b[0m\u001b[0mdownload\u001b[0m\u001b[0;34m(\u001b[0m\u001b[0;34m'outputs/unit_gta2city_folder/checkpoints/gen_00010000.pt'\u001b[0m\u001b[0;34m)\u001b[0m\u001b[0;34m\u001b[0m\u001b[0;34m\u001b[0m\u001b[0m\n\u001b[0m",
            "\u001b[0;32m/usr/local/lib/python3.6/dist-packages/google/colab/files.py\u001b[0m in \u001b[0;36mdownload\u001b[0;34m(filename)\u001b[0m\n\u001b[1;32m    141\u001b[0m       \u001b[0;32mraise\u001b[0m \u001b[0mOSError\u001b[0m\u001b[0;34m(\u001b[0m\u001b[0mmsg\u001b[0m\u001b[0;34m)\u001b[0m\u001b[0;34m\u001b[0m\u001b[0;34m\u001b[0m\u001b[0m\n\u001b[1;32m    142\u001b[0m     \u001b[0;32melse\u001b[0m\u001b[0;34m:\u001b[0m\u001b[0;34m\u001b[0m\u001b[0;34m\u001b[0m\u001b[0m\n\u001b[0;32m--> 143\u001b[0;31m       \u001b[0;32mraise\u001b[0m \u001b[0mFileNotFoundError\u001b[0m\u001b[0;34m(\u001b[0m\u001b[0mmsg\u001b[0m\u001b[0;34m)\u001b[0m  \u001b[0;31m# pylint: disable=undefined-variable\u001b[0m\u001b[0;34m\u001b[0m\u001b[0;34m\u001b[0m\u001b[0m\n\u001b[0m\u001b[1;32m    144\u001b[0m \u001b[0;34m\u001b[0m\u001b[0m\n\u001b[1;32m    145\u001b[0m   \u001b[0mcomm_manager\u001b[0m \u001b[0;34m=\u001b[0m \u001b[0m_IPython\u001b[0m\u001b[0;34m.\u001b[0m\u001b[0mget_ipython\u001b[0m\u001b[0;34m(\u001b[0m\u001b[0;34m)\u001b[0m\u001b[0;34m.\u001b[0m\u001b[0mkernel\u001b[0m\u001b[0;34m.\u001b[0m\u001b[0mcomm_manager\u001b[0m\u001b[0;34m\u001b[0m\u001b[0;34m\u001b[0m\u001b[0m\n",
            "\u001b[0;31mFileNotFoundError\u001b[0m: Cannot find file: outputs/unit_gta2city_folder/checkpoints/gen_00010000.pt"
          ]
        }
      ]
    },
    {
      "cell_type": "code",
      "metadata": {
        "id": "PR3VrB3W4Dyj"
      },
      "source": [
        "files.download('outputs/unit_gta2city_folder/checkpoints/dis_00010000.pt') "
      ],
      "execution_count": null,
      "outputs": []
    },
    {
      "cell_type": "code",
      "metadata": {
        "id": "tG1BA8d74jg2"
      },
      "source": [
        "cd outputs/unit_gta2city_folder/checkpoints/"
      ],
      "execution_count": null,
      "outputs": []
    },
    {
      "cell_type": "code",
      "metadata": {
        "id": "ZbJMgBF147RK"
      },
      "source": [
        "!mv outputs/unit_gta2city_folder/checkpoints/dis_00020000.pt /content/drive/MyDrive"
      ],
      "execution_count": null,
      "outputs": []
    },
    {
      "cell_type": "code",
      "metadata": {
        "id": "_d7yKsm64_36"
      },
      "source": [
        ""
      ],
      "execution_count": null,
      "outputs": []
    }
  ]
}